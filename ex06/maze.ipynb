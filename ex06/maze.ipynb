{
 "cells": [
  {
   "cell_type": "code",
   "execution_count": 1,
   "metadata": {},
   "outputs": [
    {
     "name": "stdout",
     "output_type": "stream",
     "text": [
      "pygame 2.1.2 (SDL 2.0.16, Python 3.10.5)\n",
      "Hello from the pygame community. https://www.pygame.org/contribute.html\n"
     ]
    }
   ],
   "source": [
    "import pygame as pg\n",
    "import sys\n",
    "import random as rd"
   ]
  },
  {
   "cell_type": "markdown",
   "metadata": {},
   "source": [
    "class Screen:\n",
    "    def __init__(self, title, wh):\n",
    "        pg.display.set_caption(title)\n",
    "        self.screen_sfc = pg.display.set_mode(wh)  # Surface\n",
    "        self.screen_rct = self.screen_sfc.get_rect()  # Rect\n",
    "\n",
    "        self.width = self.screen_rct.width\n",
    "        self.height = self.screen_rct.height\n",
    "\n"
   ]
  },
  {
   "cell_type": "markdown",
   "metadata": {},
   "source": [
    "# 迷路を作る\n",
    "## Screen 関数\n",
    "- window を作成する\n",
    "## maze 関数\n",
    "- 迷路を作成する\n",
    "  - タイルを配置する\n",
    "  - サンプルでは真四角の画像を用いている\n",
    "    - pygameに四角を描画するものはあるのか\n",
    "      - draw_rect\n",
    "      - 左上と右下の座標を使う\n",
    "        - タイルの幅を規定する。\n",
    "          - tile_length\n",
    "    - rowとcolumnで二重for文を使ってmazeの二次元リストを作成している\n",
    "      - 画像とサイズの情報を用いて描画\n"
   ]
  },
  {
   "cell_type": "code",
   "execution_count": 14,
   "metadata": {},
   "outputs": [],
   "source": [
    "class Screen:\n",
    "\n",
    "    def __init__(self) -> None:\n",
    "        \n",
    "        pg.display.set_caption(\"こうかとん迷路\")\n",
    "\n",
    "        self.x = 16 # 迷路のxマス数\n",
    "        self.y = 9 # 迷路のyマス数\n",
    "        self.tile_length = 100 #タイルの大きさ\n",
    "\n",
    "        self.sfc_screen = pg.display.set_mode((self.x*self.tile_length+14,self.y*self.tile_length+17))\n",
    "        self.rct_sfc_screen = self.sfc_screen.get_rect()\n",
    "\n",
    "        self.wall_color = (0,100,0)\n",
    "        self.floor_color = (216,208,104)\n",
    "\n",
    "        self.maze_map = [[rd.randint(0,1) for j in range(self.x)] for i in range(self.y)]\n",
    "\n",
    "    def draw_map(self):\n",
    "        self.sfc_screen.fill(self.floor_color)\n",
    "        for i in range(self.y):\n",
    "            for j in range(self.x):\n",
    "                if self.maze_map[i][j] == 1:\n",
    "                    pg.draw.rect(\n",
    "                        self.sfc_screen,\n",
    "                        color=self.wall_color,\n",
    "                        rect=(j*(self.tile_length+1),i*(self.tile_length+1),(self.tile_length-1),(self.tile_length-1)),\n",
    "                        width=0)"
   ]
  },
  {
   "cell_type": "code",
   "execution_count": 10,
   "metadata": {},
   "outputs": [],
   "source": [
    "def main():\n",
    "    running = True\n",
    "    scr = Screen()\n",
    "    while running:\n",
    "        # ここにコードを書く\n",
    "\n",
    "        scr.draw_map()\n",
    "        \n",
    "        # イベント処理部\n",
    "        for event in pg.event.get():\n",
    "            if event.type == pg.QUIT:  # 終了イベント\n",
    "                running = False\n",
    "                pg.quit()  #pygameのウィンドウを閉じる\n",
    "                sys.exit() #システム終了            \n",
    "\n",
    "        pg.display.update() #描画処理を実行"
   ]
  },
  {
   "cell_type": "code",
   "execution_count": 15,
   "metadata": {},
   "outputs": [
    {
     "ename": "SystemExit",
     "evalue": "",
     "output_type": "error",
     "traceback": [
      "An exception has occurred, use %tb to see the full traceback.\n",
      "\u001b[0;31mSystemExit\u001b[0m\n"
     ]
    }
   ],
   "source": [
    "main()"
   ]
  }
 ],
 "metadata": {
  "kernelspec": {
   "display_name": "Python 3.10.5 ('main')",
   "language": "python",
   "name": "python3"
  },
  "language_info": {
   "codemirror_mode": {
    "name": "ipython",
    "version": 3
   },
   "file_extension": ".py",
   "mimetype": "text/x-python",
   "name": "python",
   "nbconvert_exporter": "python",
   "pygments_lexer": "ipython3",
   "version": "3.10.5"
  },
  "orig_nbformat": 4,
  "vscode": {
   "interpreter": {
    "hash": "252892921b1ee3028896dc1b57062ca6ddd343e4a996512bc7fbc95666012b4f"
   }
  }
 },
 "nbformat": 4,
 "nbformat_minor": 2
}
