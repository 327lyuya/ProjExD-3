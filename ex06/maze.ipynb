{
 "cells": [
  {
   "cell_type": "code",
   "execution_count": 2,
   "metadata": {},
   "outputs": [
    {
     "ename": "ModuleNotFoundError",
     "evalue": "No module named 'pygame'",
     "output_type": "error",
     "traceback": [
      "\u001b[1;31m---------------------------------------------------------------------------\u001b[0m",
      "\u001b[1;31mModuleNotFoundError\u001b[0m                       Traceback (most recent call last)",
      "\u001b[1;32m~\\AppData\\Local\\Temp/ipykernel_53060/585058610.py\u001b[0m in \u001b[0;36m<module>\u001b[1;34m\u001b[0m\n\u001b[1;32m----> 1\u001b[1;33m \u001b[1;32mimport\u001b[0m \u001b[0mpygame\u001b[0m \u001b[1;32mas\u001b[0m \u001b[0mpg\u001b[0m\u001b[1;33m\u001b[0m\u001b[1;33m\u001b[0m\u001b[0m\n\u001b[0m\u001b[0;32m      2\u001b[0m \u001b[1;32mimport\u001b[0m \u001b[0msys\u001b[0m\u001b[1;33m\u001b[0m\u001b[1;33m\u001b[0m\u001b[0m\n\u001b[0;32m      3\u001b[0m \u001b[1;32mimport\u001b[0m \u001b[0mrandom\u001b[0m \u001b[1;32mas\u001b[0m \u001b[0mrd\u001b[0m\u001b[1;33m\u001b[0m\u001b[1;33m\u001b[0m\u001b[0m\n",
      "\u001b[1;31mModuleNotFoundError\u001b[0m: No module named 'pygame'"
     ]
    }
   ],
   "source": [
    "import pygame as pg\n",
    "import sys\n",
    "import random as rd"
   ]
  },
  {
   "cell_type": "code",
   "execution_count": null,
   "metadata": {},
   "outputs": [
    {
     "ename": "",
     "evalue": "",
     "output_type": "error",
     "traceback": [
      "\u001b[1;31m'Python 3.7.3' を使用した実行中のセルには ipykernel パッケージが必要です。\n",
      "次のコマンドを実行して、'ipykernel' を Python 環境にインストールします。\r\n",
      "コマンド: 'conda install -p c:\\Users\\admin\\anaconda3\\envs\\py39\\envs\\ProjExD ipykernel --update-deps --force-reinstall'"
     ]
    }
   ],
   "source": [
    "class Screen:\n",
    "\n",
    "    def __init__(self) -> None:\n",
    "        \n",
    "        pg.display.set_caption(\"こうかとん迷路\")\n",
    "\n",
    "        self.x = 16 # 迷路のxマス数\n",
    "        self.y = 9 # 迷路のyマス数\n",
    "        self.tile_length = 100 #タイルの大きさ\n",
    "\n",
    "        self.sfc = pg.display.set_mode((self.x*self.tile_length+14,self.y*self.tile_length+17))\n",
    "        self.rct = self.sfc.get_rect()\n",
    "\n",
    "        self.start_color = (0,0,255)\n",
    "\n",
    "        self.wall_color = (0,100,0)\n",
    "        self.floor_color = (216,208,104)\n",
    "\n",
    "        self.goal_color = (255,0,0)\n",
    "\n",
    "        \"\"\" self.maze_map = [[rd.randint(0,1) for j in range(self.x)] for i in range(self.y)] \"\"\"\n",
    "        self.maze_map = self.make_maze(self.x,self.y)\n",
    "\n",
    "    def draw_map(self):\n",
    "        self.sfc.fill(self.floor_color)\n",
    "        for i in range(self.y):\n",
    "            for j in range(self.x):\n",
    "                if self.maze_map[i][j] == 1:\n",
    "                    color = self.wall_color\n",
    "                    \"\"\" if i==1 and j==1 : color = self.start_color\n",
    "                    elif i==self.y-2 and j==self.x-2: color = self.goal_color\n",
    "                    print(color) \"\"\"\n",
    "                    pg.draw.rect(\n",
    "                        surface=self.sfc,\n",
    "                        color=color,\n",
    "                        rect=(j*(self.tile_length+1),i*(self.tile_length+1),(self.tile_length-1),(self.tile_length-1)),\n",
    "                        width=0)\n",
    "                    pg.draw.rect(\n",
    "                        surface=self.sfc,\n",
    "                        color=self.start_color,\n",
    "                        rect=(1*(self.tile_length+1),1*(self.tile_length+1),(self.tile_length-1),(self.tile_length-1)),\n",
    "                        width=0)\n",
    "                    pg.draw.rect(\n",
    "                        surface=self.sfc,\n",
    "                        color=self.goal_color,\n",
    "                        rect=((self.x-2)*(self.tile_length+1),(self.y-2)*(self.tile_length+1),(self.tile_length-1),(self.tile_length-1)),\n",
    "                        width=0)\n",
    "\n",
    "    def make_maze(self,yoko, tate):\n",
    "        XP = [ 0, 1, 0, -1]\n",
    "        YP = [-1, 0, 1,  0]\n",
    "\n",
    "        maze_lst = []\n",
    "        for y in range(tate):\n",
    "            maze_lst.append([0]*yoko)\n",
    "        for x in range(yoko):\n",
    "            maze_lst[0][x] = 1\n",
    "            maze_lst[tate-1][x] = 1\n",
    "        for y in range(1, tate-1):\n",
    "            maze_lst[y][0] = 1\n",
    "            maze_lst[y][yoko-1] = 1\n",
    "        for y in range(2, tate-2, 2):\n",
    "            for x in range(2, yoko-2, 2):\n",
    "                maze_lst[y][x] = 1\n",
    "        for y in range(2, tate-2, 2):\n",
    "            for x in range(2, yoko-2, 2):\n",
    "                if x > 2: rnd = rd.randint(0, 2)\n",
    "                else:     rnd = rd.randint(0, 3)\n",
    "                maze_lst[y+YP[rnd]][x+XP[rnd]] = 1\n",
    "\n",
    "        return maze_lst\n",
    "\n",
    "    def reset_maze(self):\n",
    "        self.maze_map = self.make_maze(self.x,self.y)"
   ]
  },
  {
   "cell_type": "code",
   "execution_count": null,
   "metadata": {},
   "outputs": [
    {
     "ename": "",
     "evalue": "",
     "output_type": "error",
     "traceback": [
      "\u001b[1;31m'Python 3.7.3' を使用した実行中のセルには ipykernel パッケージが必要です。\n",
      "次のコマンドを実行して、'ipykernel' を Python 環境にインストールします。\r\n",
      "コマンド: 'conda install -p c:\\Users\\admin\\anaconda3\\envs\\py39\\envs\\ProjExD ipykernel --update-deps --force-reinstall'"
     ]
    }
   ],
   "source": [
    "def make_maze(yoko, tate):\n",
    "    XP = [ 0, 1, 0, -1]\n",
    "    YP = [-1, 0, 1,  0]\n",
    "\n",
    "    maze_lst = []\n",
    "    for y in range(tate):\n",
    "        maze_lst.append([0]*yoko)\n",
    "    for x in range(yoko):\n",
    "        maze_lst[0][x] = 1\n",
    "        maze_lst[tate-1][x] = 1\n",
    "    for y in range(1, tate-1):\n",
    "        maze_lst[y][0] = 1\n",
    "        maze_lst[y][yoko-1] = 1\n",
    "    for y in range(2, tate-2, 2):\n",
    "        for x in range(2, yoko-2, 2):\n",
    "            maze_lst[y][x] = 1\n",
    "    for y in range(2, tate-2, 2):\n",
    "        for x in range(2, yoko-2, 2):\n",
    "            if x > 2: rnd = rd.randint(0, 2)\n",
    "            else:     rnd = rd.randint(0, 3)\n",
    "            maze_lst[y+YP[rnd]][x+XP[rnd]] = 1\n",
    "\n",
    "    return maze_lst\n",
    "\n",
    "def show_maze(canvas, maze_lst):\n",
    "    color = [\"white\", \"gray\"]\n",
    "    for y in range(len(maze_lst)):\n",
    "        for x in range(len(maze_lst[y])):\n",
    "            canvas.create_rectangle(x*100, y*100, x*100+100, y*100+100, \n",
    "                                    fill=color[maze_lst[y][x]])"
   ]
  },
  {
   "cell_type": "code",
   "execution_count": null,
   "metadata": {},
   "outputs": [
    {
     "ename": "",
     "evalue": "",
     "output_type": "error",
     "traceback": [
      "\u001b[1;31m'Python 3.7.3' を使用した実行中のセルには ipykernel パッケージが必要です。\n",
      "次のコマンドを実行して、'ipykernel' を Python 環境にインストールします。\r\n",
      "コマンド: 'conda install -p c:\\Users\\admin\\anaconda3\\envs\\py39\\envs\\ProjExD ipykernel --update-deps --force-reinstall'"
     ]
    }
   ],
   "source": [
    "class Bird:\n",
    "    def __init__(self, image, size, scr):\n",
    "        self.sfc = pg.image.load(image)\n",
    "        self.sfc = pg.transform.rotozoom(self.sfc, 0, size)\n",
    "        self.rct = self.sfc.get_rect()\n",
    "        self.size = size\n",
    "\n",
    "        self.scr = scr\n",
    "        self.tile_size = self.scr.tile_length\n",
    "\n",
    "        self.xy = 1+1j\n",
    "        self.rct.center = (int(self.xy.real)*self.tile_size+(self.rct.size[0]//2),int(self.xy.imag)*self.tile_size+(self.rct.size[1]//2))\n",
    "\n",
    "    \"\"\" def check_bound(self,rct, scr_rct):\n",
    "        yoko, tate = +1, +1  # 領域内\n",
    "        if rct.left < scr_rct.left or scr_rct.right < rct.right:\n",
    "            yoko = -1  # 領域外\n",
    "        if rct.top < scr_rct.top or scr_rct.bottom < rct.bottom:\n",
    "            tate = -1  # 領域外\n",
    "        return yoko, tate \"\"\"\n",
    "\n",
    "    def update(self, scr):\n",
    "\n",
    "        tmp = self.xy\n",
    "        key_states = pg.key.get_pressed()  # 辞書\n",
    "        if key_states[pg.K_UP]:\n",
    "            \"\"\" self.rct.centery -= 1 \"\"\"\n",
    "            self.xy -= 1j\n",
    "        if key_states[pg.K_DOWN]:\n",
    "            \"\"\" self.rct.centery += 1 \"\"\"\n",
    "            self.xy += 1j\n",
    "        if key_states[pg.K_LEFT]:\n",
    "            \"\"\" self.rct.centerx -= 1 \"\"\"\n",
    "            self.xy -= 1\n",
    "        if key_states[pg.K_RIGHT]:\n",
    "            \"\"\" self.rct.centerx += 1 \"\"\"\n",
    "            self.xy += 1\n",
    "\n",
    "        if scr.maze_map[int(self.xy.imag)][int(self.xy.real)] != 1:\n",
    "            self.rct.center = (int(self.xy.real)*self.tile_size+(self.rct.size[0]//2),int(self.xy.imag)*self.tile_size+(self.rct.size[1]//2))\n",
    "        else:\n",
    "            self.xy = tmp\n",
    "\n",
    "        if self.xy == complex(self.scr.x-2,self.scr.y-2):\n",
    "            self.scr.reset_maze()\n",
    "            self.xy = 1+1j\n",
    "            self.rct.center = (int(self.xy.real)*self.tile_size+(self.rct.size[0]//2),int(self.xy.imag)*self.tile_size+(self.rct.size[1]//2))\n",
    "        # 練習7\n",
    "        \"\"\" if self.check_bound(self.rct, scr.rct) != (1, 1):  # 領域外だったら\n",
    "            if key_states[pg.K_UP]:\n",
    "                self.rct.centery += 1\n",
    "            if key_states[pg.K_DOWN]:\n",
    "                self.rct.centery -= 1\n",
    "            if key_states[pg.K_LEFT]:\n",
    "                self.rct.centerx += 1\n",
    "            if key_states[pg.K_RIGHT]:\n",
    "                self.rct.centerx -= 1 \"\"\"\n",
    "        scr.sfc.blit(self.sfc,self.rct)"
   ]
  },
  {
   "cell_type": "code",
   "execution_count": null,
   "metadata": {},
   "outputs": [
    {
     "ename": "",
     "evalue": "",
     "output_type": "error",
     "traceback": [
      "\u001b[1;31m'Python 3.7.3' を使用した実行中のセルには ipykernel パッケージが必要です。\n",
      "次のコマンドを実行して、'ipykernel' を Python 環境にインストールします。\r\n",
      "コマンド: 'conda install -p c:\\Users\\admin\\anaconda3\\envs\\py39\\envs\\ProjExD ipykernel --update-deps --force-reinstall'"
     ]
    }
   ],
   "source": [
    "from random import randint\n",
    "\n",
    "\n",
    "class Bear(Bird):\n",
    "    def __init__(self, image, size, scr):\n",
    "        super().__init__(image, size, scr)\n",
    "        self.xy = complex(self.scr.x-2,self.scr.y-2)\n",
    "        self.rct.center = (int(self.xy.real)*self.tile_size+(self.rct.size[0]//2),int(self.xy.imag)*self.tile_size+(self.rct.size[1]//2))\n",
    "    def update(self, scr):\n",
    "        tmp = self.xy\n",
    "        # クマの行動\n",
    "        if rd.randint(0,1) == True:\n",
    "            self.xy += complex(rd.randint(-1,1),0)\n",
    "        else:\n",
    "            self.xy += complex(0,rd.randint(-1,1))\n",
    "        # 以下は同様\n",
    "        if scr.maze_map[int(self.xy.imag)][int(self.xy.real)] != 1:\n",
    "            self.rct.center = (int(self.xy.real)*self.tile_size+(self.rct.size[0]//2),int(self.xy.imag)*self.tile_size+(self.rct.size[1]//2))\n",
    "        else:\n",
    "            self.xy = tmp\n",
    "        # 練習7\n",
    "        \"\"\" if self.check_bound(self.rct, scr.rct) != (1, 1):  # 領域外だったら\n",
    "            if key_states[pg.K_UP]:\n",
    "                self.rct.centery += 1\n",
    "            if key_states[pg.K_DOWN]:\n",
    "                self.rct.centery -= 1\n",
    "            if key_states[pg.K_LEFT]:\n",
    "                self.rct.centerx += 1\n",
    "            if key_states[pg.K_RIGHT]:\n",
    "                self.rct.centerx -= 1 \"\"\"\n",
    "        scr.sfc.blit(self.sfc,self.rct)"
   ]
  },
  {
   "cell_type": "code",
   "execution_count": null,
   "metadata": {},
   "outputs": [
    {
     "ename": "",
     "evalue": "",
     "output_type": "error",
     "traceback": [
      "\u001b[1;31m'Python 3.7.3' を使用した実行中のセルには ipykernel パッケージが必要です。\n",
      "次のコマンドを実行して、'ipykernel' を Python 環境にインストールします。\r\n",
      "コマンド: 'conda install -p c:\\Users\\admin\\anaconda3\\envs\\py39\\envs\\ProjExD ipykernel --update-deps --force-reinstall'"
     ]
    }
   ],
   "source": [
    "def main():\n",
    "    running = True\n",
    "    scr = Screen()\n",
    "    kkt = Bird(\"fig/6.png\", 2.0,scr)\n",
    "    brs = [Bear(\"animal_kowai_kuma.png\",0.125,scr) for i in range(3)]\n",
    "    clock = pg.time.Clock()\n",
    "\n",
    "    counter = 0\n",
    "\n",
    "\n",
    "    while running:\n",
    "        # ここにコードを書く\n",
    "        if counter > 100:\n",
    "            brs.append(Bear(\"animal_kowai_kuma.png\",0.125,scr))\n",
    "            counter = 0\n",
    "\n",
    "        scr.draw_map()\n",
    "        kkt.update(scr)\n",
    "        \"\"\" brs[0].update(scr) \"\"\"\n",
    "        for b in brs:\n",
    "            b.update(scr)\n",
    "\n",
    "        for b in brs:\n",
    "            if kkt.rct.colliderect(b.rct):\n",
    "                pg.quit()\n",
    "                sys.exit()\n",
    "\n",
    "\n",
    "        # イベント処理部\n",
    "        for event in pg.event.get():\n",
    "            if event.type == pg.QUIT:  # 終了イベント\n",
    "                running = False\n",
    "                pg.quit()  #pygameのウィンドウを閉じる\n",
    "                sys.exit() #システム終了            \n",
    "\n",
    "        pg.display.update() #描画処理を実行\n",
    "        counter += 1\n",
    "        clock.tick(10)"
   ]
  },
  {
   "cell_type": "code",
   "execution_count": null,
   "metadata": {},
   "outputs": [
    {
     "ename": "",
     "evalue": "",
     "output_type": "error",
     "traceback": [
      "\u001b[1;31m'Python 3.7.3' を使用した実行中のセルには ipykernel パッケージが必要です。\n",
      "次のコマンドを実行して、'ipykernel' を Python 環境にインストールします。\r\n",
      "コマンド: 'conda install -p c:\\Users\\admin\\anaconda3\\envs\\py39\\envs\\ProjExD ipykernel --update-deps --force-reinstall'"
     ]
    }
   ],
   "source": [
    "if __name__ == '__main__':\n",
    "    main()"
   ]
  }
 ],
 "metadata": {
  "kernelspec": {
   "display_name": "Python 3.9.7 ('py39')",
   "language": "python",
   "name": "python3"
  },
  "language_info": {
   "codemirror_mode": {
    "name": "ipython",
    "version": 3
   },
   "file_extension": ".py",
   "mimetype": "text/x-python",
   "name": "python",
   "nbconvert_exporter": "python",
   "pygments_lexer": "ipython3",
   "version": "3.9.7"
  },
  "orig_nbformat": 4,
  "vscode": {
   "interpreter": {
    "hash": "f17d57e5fc6ee481ff7e68a143ed0edc07dba6babbe5d2cf56f5efad89bcf61d"
   }
  }
 },
 "nbformat": 4,
 "nbformat_minor": 2
}
